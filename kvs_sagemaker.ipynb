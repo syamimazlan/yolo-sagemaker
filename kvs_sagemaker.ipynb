{
 "cells": [
  {
   "cell_type": "markdown",
   "id": "3787d686",
   "metadata": {},
   "source": [
    "### To be done\n",
    "- how to create an .lst file using JSON from S3 bucket\n",
    "- how to train locally"
   ]
  },
  {
   "cell_type": "markdown",
   "id": "2c68472d",
   "metadata": {},
   "source": [
    "## Notes\n",
    "- Training should be done using unsupervised machine learning algorithm\n",
    "- This is because the input should be used for the training of the model so that it can give an output(?)\n",
    " - - this is correct\n",
    " - - because the input is trained using CGI\n",
    "- Use GPU support when training and deploying\n",
    "- Will train using Apache MXNet RecordIO algorithm"
   ]
  },
  {
   "cell_type": "code",
   "execution_count": null,
   "id": "fe1cc164",
   "metadata": {},
   "outputs": [],
   "source": [
    "import pandas as pd\n",
    "import numpy as np\n",
    "import seaborn as sns\n",
    "import matplotlib.pyplot as plt\n",
    "import zipfile\n",
    "import json\n",
    "\n",
    "import os\n",
    "import boto3\n",
    "import sagemaker\n",
    "\n",
    "import mxnet as mx\n",
    "from sagemaker.mxnet import MXNet\n",
    "\n",
    "import re\n",
    "import copy\n",
    "import time\n",
    "import pathlib\n",
    "\n",
    "import io\n",
    "import sagemaker.amazon.common as smac # sagemaker common library\n",
    "\n",
    "\"\"\"Classes for using MXNet with Amazon SageMaker.\"\"\"\n",
    "from __future__ import absolute_import \n",
    "\n",
    "from sagemaker.mxnet.estimator import MXNet \n",
    "from sagemaker.mxnet.model import MXNetModel, MXNetPredictor \n",
    "from sagemaker.mxnet.processing import MXNetProcessor \n",
    "\n",
    "from __future__ import absolute_import"
   ]
  },
  {
   "cell_type": "code",
   "execution_count": null,
   "id": "03958a87",
   "metadata": {
    "scrolled": false
   },
   "outputs": [],
   "source": [
    "from sagemaker import Session\n",
    "from sagemaker import get_execution_role\n",
    "from sagemaker.amazon.amazon_estimator import get_image_uri\n",
    "\n",
    "sagemaker_session = sagemaker.Session()\n",
    "# make a bucket everytime this code runs\n",
    "bucket = Session().default_bucket() \n",
    "## prefix = 'subfolder_name' \n",
    "# # prefix is the subfolder within the bucket\n",
    "# # Probably Keerthana/Pooja will define this when they are \n",
    "\n",
    "role = get_execution_role()\n",
    "\n",
    "# printing the role\n",
    "print(role)"
   ]
  },
  {
   "cell_type": "code",
   "execution_count": 1,
   "id": "f34eca60",
   "metadata": {},
   "outputs": [],
   "source": [
    "# should take the image data from S3 which is\n",
    "# received from KVS that is changed to metadata form into S3\n",
    "\n",
    "dataset_url = \"data.py\" # .txt file from a list of jpg\n",
    "data_dir = tf.keras.utils.get_file"
   ]
  },
  {
   "cell_type": "markdown",
   "id": "c98d9867",
   "metadata": {},
   "source": [
    "### Training data"
   ]
  },
  {
   "cell_type": "code",
   "execution_count": null,
   "id": "8300f81d",
   "metadata": {},
   "outputs": [],
   "source": [
    "# splitting the data into test and train sets\n",
    "# test size is 25%\n",
    "\n",
    "mxnet_estimator = MXNet(\n",
    "    s3_train_data, \n",
    "    role = sagemaker.get_execution_role(),\n",
    "    instance_count = 1,\n",
    "    instance_type = 'm1.p2.xlarge',\n",
    "    hyperparameters={'batch_size': 1024,\n",
    "       'epochs': 30}\n",
    "    framework_version = '1.2.1')\n",
    "\n",
    "mxnet_estimator.fit()\n",
    "estimator.fit(inputs)"
   ]
  },
  {
   "cell_type": "code",
   "execution_count": null,
   "id": "050a99b6",
   "metadata": {},
   "outputs": [],
   "source": [
    "predictor = estimator.deploy(initial_instance_count = 1,\n",
    "                             instance_type = 'ml.m4.xlarge') \n",
    "\n",
    "# put 'local' if want to run in local machine"
   ]
  },
  {
   "cell_type": "markdown",
   "id": "13ac2274",
   "metadata": {},
   "source": [
    "### Validating data"
   ]
  },
  {
   "cell_type": "code",
   "execution_count": null,
   "id": "9778541b",
   "metadata": {},
   "outputs": [],
   "source": [
    "# validating data\n",
    "\n",
    "validation_data = sagemaker.session.s3_input(\n",
    "    s3_validation_data,\n",
    "    distribution='FullyReplicated', \n",
    "    content_type='text/plain', \n",
    "    s3_data_type='S3Prefix')"
   ]
  },
  {
   "cell_type": "markdown",
   "id": "5dde6086",
   "metadata": {},
   "source": [
    "### Output the data"
   ]
  },
  {
   "cell_type": "code",
   "execution_count": null,
   "id": "61557508",
   "metadata": {},
   "outputs": [],
   "source": [
    "# output the data\n",
    "\n",
    "data_channels = {\n",
    "    'train': train_data, \n",
    "    'validation': validation_data}\n",
    "bt_model.fit(inputs=data_channels, logs = True)"
   ]
  },
  {
   "cell_type": "markdown",
   "id": "80f10557",
   "metadata": {},
   "source": [
    "### Endpoint"
   ]
  },
  {
   "cell_type": "code",
   "execution_count": null,
   "id": "8025e013",
   "metadata": {},
   "outputs": [],
   "source": [
    "mxnet_predictor = bt_model.deploy(\n",
    "    initial_instance_count = 1,\n",
    "    instance_type = 'ml.t2.medium')"
   ]
  },
  {
   "cell_type": "code",
   "execution_count": null,
   "id": "95c88876",
   "metadata": {},
   "outputs": [],
   "source": [
    "print(mxnet_predictor.endpoint)"
   ]
  },
  {
   "cell_type": "markdown",
   "id": "9b48735f",
   "metadata": {},
   "source": [
    "### Deleting the endpoint"
   ]
  },
  {
   "cell_type": "code",
   "execution_count": null,
   "id": "90644107",
   "metadata": {},
   "outputs": [],
   "source": [
    "# deleting endpoint\n",
    "mxnet_predictor.delete_endpoint()"
   ]
  }
 ],
 "metadata": {
  "kernelspec": {
   "display_name": "Python 3 (ipykernel)",
   "language": "python",
   "name": "python3"
  },
  "language_info": {
   "codemirror_mode": {
    "name": "ipython",
    "version": 3
   },
   "file_extension": ".py",
   "mimetype": "text/x-python",
   "name": "python",
   "nbconvert_exporter": "python",
   "pygments_lexer": "ipython3",
   "version": "3.9.7"
  }
 },
 "nbformat": 4,
 "nbformat_minor": 5
}
